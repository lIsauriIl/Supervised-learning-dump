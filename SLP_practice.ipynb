{
 "cells": [
  {
   "cell_type": "code",
   "execution_count": 1,
   "id": "793248f8-521b-47a7-9b8d-b91dfae5f8bd",
   "metadata": {},
   "outputs": [],
   "source": [
    "# Importing libraries\n",
    "import numpy as np\n",
    "import math"
   ]
  },
  {
   "cell_type": "code",
   "execution_count": 4,
   "id": "027b9477-51e9-40c8-99b3-d52877d91b72",
   "metadata": {},
   "outputs": [],
   "source": [
    "# Initialising weights\n",
    "\n",
    "weights = np.array([1.0, 1.0, 1.0])  # random values\n",
    "threshold = -1.0 # negative of first weight\n",
    "\n",
    "# Initialising training data\n",
    "train_data  = np.array([[1.0, 0.2, 0.8, 0],  # Data point 1 (features and label)\n",
    "    [1.0, 0.7, 0.1, 1],  # Data point 2\n",
    "    [1.0, 0.4, 0.5, 0],  # Data point 3\n",
    "    [1.0, 0.1, 0.9, 1],  # Data point 4\n",
    "    [1.0, 0.8, 0.3, 0],  # Data point 5\n",
    "    [1.0, 0.5, 0.4, 1],  # Data point 6 (added)\n",
    "    [1.0, 0.9, 0.7, 0],  # Data point 7 (added)\n",
    "    [1.0, 0.3, 0.2, 1],  # Data point 8 (added)\n",
    "    [1.0, 0.6, 0.9, 0],  # Data point 9 (added)\n",
    "    [1.0, 0.2, 0.1, 1]])\n",
    "\n",
    "# Initialising testing data\n",
    "test_data = np.array([\n",
    "    [1.0, 0.3, 0.6, 0],  # Data point for testing\n",
    "    [1.0, 0.9, 0.2, 1],  # Data point for testing\n",
    "    [1.0, 0.5, 0.7, 1],  # Data point for testing\n",
    "    [1.0, 0.2, 0.4, 0]   # Data point for testing\n",
    "])\n"
   ]
  },
  {
   "cell_type": "code",
   "execution_count": null,
   "id": "f0bbafe9-80e0-4ac0-8eee-1aadc9c2f6cb",
   "metadata": {},
   "outputs": [],
   "source": [
    "# Training process 1: Regular weight adaptation\n",
    "\n"
   ]
  }
 ],
 "metadata": {
  "kernelspec": {
   "display_name": "Python 3 (ipykernel)",
   "language": "python",
   "name": "python3"
  },
  "language_info": {
   "codemirror_mode": {
    "name": "ipython",
    "version": 3
   },
   "file_extension": ".py",
   "mimetype": "text/x-python",
   "name": "python",
   "nbconvert_exporter": "python",
   "pygments_lexer": "ipython3",
   "version": "3.11.9"
  }
 },
 "nbformat": 4,
 "nbformat_minor": 5
}
